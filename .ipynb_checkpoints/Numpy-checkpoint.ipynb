{
 "cells": [
  {
   "cell_type": "markdown",
   "id": "362b70b6-647e-4600-8b5e-7fd1a83378d8",
   "metadata": {},
   "source": [
    "# 📊 Introduction to NumPy\n",
    "\n",
    "NumPy (Numerical Python) is a powerful library for numerical computing in Python. It provides support for arrays, matrices, and a large collection of mathematical functions to operate on these data structures.\n",
    "\n",
    "## 📝 Key Features\n",
    "- **N-Dimensional Arrays**: Efficient and powerful n-dimensional array object.\n",
    "- **Mathematical Functions**: Comprehensive collection of mathematical functions for array operations.\n",
    "- **Broadcasting**: Ability to perform operations on arrays of different shapes.\n",
    "- **Performance**: Optimized for performance with support for vectorized operations, which are faster than traditional Python loops.\n",
    "\n",
    "### Importing NumPy\n",
    "First, you need to import the NumPy library. It's common practice to import it using the alias `np`.\n"
   ]
  },
  {
   "cell_type": "code",
   "execution_count": 2,
   "id": "5226d628-1b59-4f36-8159-e35cb8001cc6",
   "metadata": {},
   "outputs": [
    {
     "data": {
      "text/plain": [
       "array([1, 2, 3])"
      ]
     },
     "execution_count": 2,
     "metadata": {},
     "output_type": "execute_result"
    }
   ],
   "source": [
    "import numpy as np\n",
    "\n",
    "arr = np.array([1,2,3])\n",
    "arr"
   ]
  },
  {
   "cell_type": "markdown",
   "id": "e33b198f-1c74-4e52-9bbd-2a73f59674d2",
   "metadata": {},
   "source": [
    "## 📝 Data Types"
   ]
  },
  {
   "cell_type": "code",
   "execution_count": 28,
   "id": "91b13f0c-5c0d-4b46-a041-0a56eaeac86f",
   "metadata": {},
   "outputs": [
    {
     "data": {
      "text/plain": [
       "dtype('int64')"
      ]
     },
     "execution_count": 28,
     "metadata": {},
     "output_type": "execute_result"
    }
   ],
   "source": [
    "arr.dtype"
   ]
  },
  {
   "cell_type": "markdown",
   "id": "2e793971-e1b9-48d8-b684-4943a87e0cf6",
   "metadata": {},
   "source": [
    "## 📝 Dimensions"
   ]
  },
  {
   "cell_type": "code",
   "execution_count": 3,
   "id": "bcad73d4-d20b-409d-9301-bfa54dcf1fc2",
   "metadata": {},
   "outputs": [
    {
     "data": {
      "text/plain": [
       "1"
      ]
     },
     "execution_count": 3,
     "metadata": {},
     "output_type": "execute_result"
    }
   ],
   "source": [
    "arr.ndim"
   ]
  },
  {
   "cell_type": "code",
   "execution_count": 4,
   "id": "a6f5c229-e4cf-4f91-bf51-6d48b8d9107b",
   "metadata": {},
   "outputs": [
    {
     "data": {
      "text/plain": [
       "array([[1, 2, 3],\n",
       "       [4, 5, 6]])"
      ]
     },
     "execution_count": 4,
     "metadata": {},
     "output_type": "execute_result"
    }
   ],
   "source": [
    "arr = np.array([[1,2,3],[4,5,6]])\n",
    "arr"
   ]
  },
  {
   "cell_type": "code",
   "execution_count": 5,
   "id": "d41f5a6a-66bc-4f07-b13d-d7908a16da7e",
   "metadata": {},
   "outputs": [
    {
     "data": {
      "text/plain": [
       "2"
      ]
     },
     "execution_count": 5,
     "metadata": {},
     "output_type": "execute_result"
    }
   ],
   "source": [
    "arr.ndim"
   ]
  },
  {
   "cell_type": "markdown",
   "id": "ee1ea100-e1bc-4d99-9221-8b2fe64499bc",
   "metadata": {},
   "source": [
    "## 📝 Indexing"
   ]
  },
  {
   "cell_type": "code",
   "execution_count": 8,
   "id": "670a6bdd-c9a6-4134-901b-28c74333f21b",
   "metadata": {},
   "outputs": [
    {
     "data": {
      "text/plain": [
       "array([1, 3])"
      ]
     },
     "execution_count": 8,
     "metadata": {},
     "output_type": "execute_result"
    }
   ],
   "source": [
    "arr = np.array([1,2,3])\n",
    "arr[::2]"
   ]
  },
  {
   "cell_type": "code",
   "execution_count": 9,
   "id": "15f2c831-3fb0-43f8-9df1-0edcf93e951c",
   "metadata": {},
   "outputs": [
    {
     "data": {
      "text/plain": [
       "array([3, 2, 1])"
      ]
     },
     "execution_count": 9,
     "metadata": {},
     "output_type": "execute_result"
    }
   ],
   "source": [
    "arr[::-1]"
   ]
  },
  {
   "cell_type": "code",
   "execution_count": 10,
   "id": "97fbc87e-606b-4c11-816b-2012673c5bbb",
   "metadata": {},
   "outputs": [
    {
     "data": {
      "text/plain": [
       "array([2, 3])"
      ]
     },
     "execution_count": 10,
     "metadata": {},
     "output_type": "execute_result"
    }
   ],
   "source": [
    "arr[1:3:1]"
   ]
  },
  {
   "cell_type": "code",
   "execution_count": 32,
   "id": "df63fbc3-7f64-4d52-87df-77687d49890b",
   "metadata": {},
   "outputs": [
    {
     "data": {
      "text/plain": [
       "array([2, 3])"
      ]
     },
     "execution_count": 32,
     "metadata": {},
     "output_type": "execute_result"
    }
   ],
   "source": [
    "arr[arr>1]"
   ]
  },
  {
   "cell_type": "markdown",
   "id": "576e9379-37a0-452e-b922-77b3c598b29f",
   "metadata": {},
   "source": [
    "## 📝 Search into arrays"
   ]
  },
  {
   "cell_type": "code",
   "execution_count": 14,
   "id": "b2d33cd1-b482-442c-9620-4a03ba22f61e",
   "metadata": {},
   "outputs": [
    {
     "data": {
      "text/plain": [
       "(array([1]),)"
      ]
     },
     "execution_count": 14,
     "metadata": {},
     "output_type": "execute_result"
    }
   ],
   "source": [
    "np.where(arr == 2)"
   ]
  },
  {
   "cell_type": "code",
   "execution_count": 15,
   "id": "5ad47bc7-4f76-4099-bf92-30d825328c2c",
   "metadata": {},
   "outputs": [
    {
     "data": {
      "text/plain": [
       "2"
      ]
     },
     "execution_count": 15,
     "metadata": {},
     "output_type": "execute_result"
    }
   ],
   "source": [
    "np.searchsorted(arr,3)"
   ]
  },
  {
   "cell_type": "markdown",
   "id": "44fdc519-7be3-46c8-b1b4-09950ef5a86b",
   "metadata": {},
   "source": [
    "## 📝 Sort"
   ]
  },
  {
   "cell_type": "code",
   "execution_count": 33,
   "id": "fd73992b-84e4-453c-bf98-21aeff992b89",
   "metadata": {},
   "outputs": [
    {
     "data": {
      "text/plain": [
       "array([3, 4, 6])"
      ]
     },
     "execution_count": 33,
     "metadata": {},
     "output_type": "execute_result"
    }
   ],
   "source": [
    "arr5 = np.array([3,4,6])\n",
    "arr5.sort()\n",
    "arr5"
   ]
  },
  {
   "cell_type": "markdown",
   "id": "cd98ff22-fbe0-4fbb-a34c-c915431c0c0b",
   "metadata": {},
   "source": [
    "## 📝 Random number"
   ]
  },
  {
   "cell_type": "code",
   "execution_count": 18,
   "id": "ad49b84d-224e-49cb-9956-fbd8ca3d0db7",
   "metadata": {},
   "outputs": [
    {
     "data": {
      "text/plain": [
       "8"
      ]
     },
     "execution_count": 18,
     "metadata": {},
     "output_type": "execute_result"
    }
   ],
   "source": [
    "from numpy import random\n",
    "num = random.randint(10)\n",
    "num"
   ]
  },
  {
   "cell_type": "code",
   "execution_count": 73,
   "id": "900a0172-f9c4-4f04-8cb7-a8e9ab47eee4",
   "metadata": {},
   "outputs": [
    {
     "data": {
      "text/plain": [
       "array([[0.85716636, 0.09120176],\n",
       "       [0.60791525, 0.28358069]])"
      ]
     },
     "execution_count": 73,
     "metadata": {},
     "output_type": "execute_result"
    }
   ],
   "source": [
    "np.random.random((2,2))"
   ]
  },
  {
   "cell_type": "markdown",
   "id": "8881aa05-5975-4c2d-8d3a-e642e9b20fb3",
   "metadata": {},
   "source": [
    "## 📝 LineSpace for ploting"
   ]
  },
  {
   "cell_type": "code",
   "execution_count": 23,
   "id": "caeb7693-b4b7-4d5a-a65c-6ab4708fedee",
   "metadata": {},
   "outputs": [
    {
     "data": {
      "text/plain": [
       "array([0. , 0.5, 1. , 1.5, 2. ])"
      ]
     },
     "execution_count": 23,
     "metadata": {},
     "output_type": "execute_result"
    }
   ],
   "source": [
    "np.linspace(0,2,num = 5) #Used in plots"
   ]
  },
  {
   "cell_type": "markdown",
   "id": "a69bb194-9e26-466b-bbe4-70b91052e402",
   "metadata": {},
   "source": [
    "## 📝 Identity Matrix"
   ]
  },
  {
   "cell_type": "code",
   "execution_count": 24,
   "id": "be755b5a-707b-4ef4-a754-1b3c9f7f4756",
   "metadata": {},
   "outputs": [
    {
     "data": {
      "text/plain": [
       "array([[1., 0., 0.],\n",
       "       [0., 1., 0.],\n",
       "       [0., 0., 1.]])"
      ]
     },
     "execution_count": 24,
     "metadata": {},
     "output_type": "execute_result"
    }
   ],
   "source": [
    "np.identity(3)"
   ]
  },
  {
   "cell_type": "code",
   "execution_count": 26,
   "id": "f555862c-b6d7-4da9-8ecc-d6f4abd9981c",
   "metadata": {},
   "outputs": [
    {
     "data": {
      "text/plain": [
       "array([[1., 0., 0., 0.],\n",
       "       [0., 1., 0., 0.],\n",
       "       [0., 0., 1., 0.]])"
      ]
     },
     "execution_count": 26,
     "metadata": {},
     "output_type": "execute_result"
    }
   ],
   "source": [
    "np.eye(3,4)"
   ]
  },
  {
   "cell_type": "markdown",
   "id": "7a690f9e-99fe-4e86-bdb2-b784dc313252",
   "metadata": {},
   "source": [
    "## 📝 Copy and View"
   ]
  },
  {
   "cell_type": "code",
   "execution_count": 30,
   "id": "65065e38-d02d-4cc6-8d96-dc38bea79010",
   "metadata": {},
   "outputs": [
    {
     "data": {
      "text/plain": [
       "array([1, 2, 3])"
      ]
     },
     "execution_count": 30,
     "metadata": {},
     "output_type": "execute_result"
    }
   ],
   "source": [
    "arr2 = arr.copy()\n",
    "arr2"
   ]
  },
  {
   "cell_type": "code",
   "execution_count": 31,
   "id": "0eed3e4c-05d1-4a37-8f02-749a6e37b227",
   "metadata": {},
   "outputs": [
    {
     "data": {
      "text/plain": [
       "array([1, 2, 3])"
      ]
     },
     "execution_count": 31,
     "metadata": {},
     "output_type": "execute_result"
    }
   ],
   "source": [
    "arr2 = arr.view()\n",
    "arr2"
   ]
  },
  {
   "cell_type": "markdown",
   "id": "4995dcf1-b999-4f25-93c9-560b86b8359e",
   "metadata": {},
   "source": [
    "## 📝 Append and concate"
   ]
  },
  {
   "cell_type": "code",
   "execution_count": 35,
   "id": "b4bb7450-48c8-4428-b041-c5497914fa5e",
   "metadata": {},
   "outputs": [
    {
     "data": {
      "text/plain": [
       "array([1, 2, 3, 3, 4, 6])"
      ]
     },
     "execution_count": 35,
     "metadata": {},
     "output_type": "execute_result"
    }
   ],
   "source": [
    "np.append(arr2,arr5)"
   ]
  },
  {
   "cell_type": "code",
   "execution_count": 47,
   "id": "bc1815a4-8ff4-451e-a20a-dacc18515771",
   "metadata": {},
   "outputs": [
    {
     "data": {
      "text/plain": [
       "array([[1, 2],\n",
       "       [3, 4],\n",
       "       [5, 6]])"
      ]
     },
     "execution_count": 47,
     "metadata": {},
     "output_type": "execute_result"
    }
   ],
   "source": [
    "ar1 = np.array([[1,2],[3,4]])\n",
    "ar2 = np.array([[5,6]])\n",
    "np.concatenate((ar1,ar2),axis = 0)"
   ]
  },
  {
   "cell_type": "code",
   "execution_count": 50,
   "id": "cc93c943-fffe-42a6-9d24-db691e384937",
   "metadata": {},
   "outputs": [
    {
     "data": {
      "text/plain": [
       "array([[1, 2, 5],\n",
       "       [3, 4, 6]])"
      ]
     },
     "execution_count": 50,
     "metadata": {},
     "output_type": "execute_result"
    }
   ],
   "source": [
    "ar1 = np.array([[1,2],[3,4]])\n",
    "ar2 = np.array([[5],[6]])\n",
    "np.concatenate((ar1,ar2),axis = 1)"
   ]
  },
  {
   "cell_type": "markdown",
   "id": "35dd45d0-f767-4414-bf6f-71985bf4e0ed",
   "metadata": {},
   "source": [
    "## 📝 Unique"
   ]
  },
  {
   "cell_type": "code",
   "execution_count": 51,
   "id": "03405f80-fde1-4397-84d4-07f11d0f05af",
   "metadata": {},
   "outputs": [
    {
     "data": {
      "text/plain": [
       "array([1, 2, 3])"
      ]
     },
     "execution_count": 51,
     "metadata": {},
     "output_type": "execute_result"
    }
   ],
   "source": [
    "ar = np.array([1,2,2,3,3])\n",
    "np.unique(ar)"
   ]
  },
  {
   "cell_type": "markdown",
   "id": "3b5de0e5-4ad3-44f2-9a53-e6f195747ff4",
   "metadata": {},
   "source": [
    "## 📝 Shape and Reshape"
   ]
  },
  {
   "cell_type": "code",
   "execution_count": 52,
   "id": "2f6823c9-b33e-4ba7-a48e-9793ac8b4b15",
   "metadata": {},
   "outputs": [
    {
     "data": {
      "text/plain": [
       "(5,)"
      ]
     },
     "execution_count": 52,
     "metadata": {},
     "output_type": "execute_result"
    }
   ],
   "source": [
    "ar.shape"
   ]
  },
  {
   "cell_type": "code",
   "execution_count": 53,
   "id": "0086528a-6abb-41ff-a853-26f8f799bd53",
   "metadata": {},
   "outputs": [
    {
     "data": {
      "text/plain": [
       "array([[1, 2, 2, 3, 3]])"
      ]
     },
     "execution_count": 53,
     "metadata": {},
     "output_type": "execute_result"
    }
   ],
   "source": [
    "ar.reshape(1,5)"
   ]
  },
  {
   "cell_type": "code",
   "execution_count": 56,
   "id": "f0faf6cd-9d40-4c16-86e4-f1be2fc0b4ff",
   "metadata": {},
   "outputs": [
    {
     "data": {
      "text/plain": [
       "array([1, 2, 2, 3, 3])"
      ]
     },
     "execution_count": 56,
     "metadata": {},
     "output_type": "execute_result"
    }
   ],
   "source": [
    "np.ravel(ar)"
   ]
  },
  {
   "cell_type": "markdown",
   "id": "39a92409-02b5-4df9-8ef6-6ef709eede36",
   "metadata": {},
   "source": [
    "## 📝 Split "
   ]
  },
  {
   "cell_type": "code",
   "execution_count": 58,
   "id": "8212c415-d7ea-4868-9cd6-a83bffb8a1dc",
   "metadata": {},
   "outputs": [
    {
     "data": {
      "text/plain": [
       "[array([1]), array([2]), array([2]), array([3]), array([3])]"
      ]
     },
     "execution_count": 58,
     "metadata": {},
     "output_type": "execute_result"
    }
   ],
   "source": [
    "np.array_split(ar,5)"
   ]
  },
  {
   "cell_type": "code",
   "execution_count": 61,
   "id": "71d81561-a610-4643-9dd3-c6a04eff27cb",
   "metadata": {},
   "outputs": [
    {
     "data": {
      "text/plain": [
       "[array([1]), array([2]), array([2]), array([3]), array([3])]"
      ]
     },
     "execution_count": 61,
     "metadata": {},
     "output_type": "execute_result"
    }
   ],
   "source": [
    "np.hsplit(ar,5)"
   ]
  },
  {
   "cell_type": "markdown",
   "id": "7e5f3640-2257-49ec-b180-402bde97a8d6",
   "metadata": {},
   "source": [
    "## 📝 Ones and Zeros"
   ]
  },
  {
   "cell_type": "code",
   "execution_count": 71,
   "id": "ae6ee213-e2bf-48e6-a5f7-7f65ccc41b8d",
   "metadata": {
    "scrolled": true
   },
   "outputs": [
    {
     "data": {
      "text/plain": [
       "array([[1., 1.],\n",
       "       [1., 1.]])"
      ]
     },
     "execution_count": 71,
     "metadata": {},
     "output_type": "execute_result"
    }
   ],
   "source": [
    "np.ones((2,2))"
   ]
  },
  {
   "cell_type": "code",
   "execution_count": 72,
   "id": "636fea69-bf27-48be-9ac8-93c067aa0af1",
   "metadata": {},
   "outputs": [
    {
     "data": {
      "text/plain": [
       "array([[0., 0.],\n",
       "       [0., 0.]])"
      ]
     },
     "execution_count": 72,
     "metadata": {},
     "output_type": "execute_result"
    }
   ],
   "source": [
    "np.zeros((2,2))"
   ]
  },
  {
   "cell_type": "markdown",
   "id": "216f302f-bd77-47ec-aee9-a377f1a95c88",
   "metadata": {},
   "source": [
    "## 📝 Joining"
   ]
  },
  {
   "cell_type": "code",
   "execution_count": 79,
   "id": "4559b03d-062e-4dbc-b497-019111a835ac",
   "metadata": {},
   "outputs": [
    {
     "name": "stdout",
     "output_type": "stream",
     "text": [
      "[[[1 3]\n",
      "  [2 4]]]\n"
     ]
    }
   ],
   "source": [
    "import numpy as np\n",
    "\n",
    "ar = np.array([1, 2])\n",
    "ar1 = np.array([3, 4])\n",
    "\n",
    "result = np.dstack((ar, ar1))\n",
    "print(result)"
   ]
  },
  {
   "cell_type": "code",
   "execution_count": 127,
   "id": "1d389c41-5bb8-4ffb-9a61-9024631fd6fc",
   "metadata": {},
   "outputs": [
    {
     "data": {
      "text/plain": [
       "array([[1., 1.],\n",
       "       [1., 1.]])"
      ]
     },
     "execution_count": 127,
     "metadata": {},
     "output_type": "execute_result"
    }
   ],
   "source": [
    "np.corrcoef(ar,ar1)"
   ]
  },
  {
   "cell_type": "markdown",
   "id": "45a37d98-d693-4f5e-b199-6020ee6cd5d6",
   "metadata": {},
   "source": [
    "## 📝 Statistical Numpy"
   ]
  },
  {
   "cell_type": "code",
   "execution_count": 80,
   "id": "36762137-2fa3-4106-93f5-ecdcbba3d116",
   "metadata": {},
   "outputs": [
    {
     "data": {
      "text/plain": [
       "1.5"
      ]
     },
     "execution_count": 80,
     "metadata": {},
     "output_type": "execute_result"
    }
   ],
   "source": [
    "np.mean(ar)"
   ]
  },
  {
   "cell_type": "code",
   "execution_count": 81,
   "id": "37d03bce-8dfc-4662-bf20-5fb947c4e451",
   "metadata": {},
   "outputs": [
    {
     "data": {
      "text/plain": [
       "1.5"
      ]
     },
     "execution_count": 81,
     "metadata": {},
     "output_type": "execute_result"
    }
   ],
   "source": [
    "np.average(ar)"
   ]
  },
  {
   "cell_type": "code",
   "execution_count": 82,
   "id": "12d99d9f-a923-4ac2-88c9-76ffc7b3ed01",
   "metadata": {},
   "outputs": [
    {
     "data": {
      "text/plain": [
       "0.5"
      ]
     },
     "execution_count": 82,
     "metadata": {},
     "output_type": "execute_result"
    }
   ],
   "source": [
    "np.std(ar)"
   ]
  },
  {
   "cell_type": "code",
   "execution_count": 83,
   "id": "7c2aa6b1-3553-4fd5-9c08-9ef5125d2b1d",
   "metadata": {},
   "outputs": [
    {
     "data": {
      "text/plain": [
       "1.5"
      ]
     },
     "execution_count": 83,
     "metadata": {},
     "output_type": "execute_result"
    }
   ],
   "source": [
    "np.median(ar)"
   ]
  },
  {
   "cell_type": "code",
   "execution_count": 85,
   "id": "c3280dcb-702a-4de8-b262-42e4b49a7a4e",
   "metadata": {},
   "outputs": [
    {
     "data": {
      "text/plain": [
       "0.25"
      ]
     },
     "execution_count": 85,
     "metadata": {},
     "output_type": "execute_result"
    }
   ],
   "source": [
    "np.var(ar)"
   ]
  },
  {
   "cell_type": "code",
   "execution_count": 87,
   "id": "c3fb2ac0-9b8c-4eee-b046-9e80597bd03a",
   "metadata": {},
   "outputs": [
    {
     "data": {
      "text/plain": [
       "2"
      ]
     },
     "execution_count": 87,
     "metadata": {},
     "output_type": "execute_result"
    }
   ],
   "source": [
    "np.max(ar)"
   ]
  },
  {
   "cell_type": "code",
   "execution_count": 86,
   "id": "cdbe2826-4e6f-4984-a2ca-11b62f3618f7",
   "metadata": {},
   "outputs": [
    {
     "data": {
      "text/plain": [
       "1"
      ]
     },
     "execution_count": 86,
     "metadata": {},
     "output_type": "execute_result"
    }
   ],
   "source": [
    "np.min(ar)"
   ]
  },
  {
   "cell_type": "code",
   "execution_count": 88,
   "id": "df01d023-0e11-4988-bac4-a7000dcd6d56",
   "metadata": {},
   "outputs": [
    {
     "data": {
      "text/plain": [
       "3"
      ]
     },
     "execution_count": 88,
     "metadata": {},
     "output_type": "execute_result"
    }
   ],
   "source": [
    "np.sum(ar)"
   ]
  },
  {
   "cell_type": "code",
   "execution_count": 89,
   "id": "7228e2ef-00c7-42d4-8823-83fb43ef8876",
   "metadata": {},
   "outputs": [
    {
     "data": {
      "text/plain": [
       "array([2.71828183, 7.3890561 ])"
      ]
     },
     "execution_count": 89,
     "metadata": {},
     "output_type": "execute_result"
    }
   ],
   "source": [
    "np.exp(ar)"
   ]
  },
  {
   "cell_type": "code",
   "execution_count": 93,
   "id": "110f7343-c2a1-45ef-be90-788ef4deec2a",
   "metadata": {},
   "outputs": [
    {
     "data": {
      "text/plain": [
       "array([4, 6])"
      ]
     },
     "execution_count": 93,
     "metadata": {},
     "output_type": "execute_result"
    }
   ],
   "source": [
    "arr = ar + ar1\n",
    "arr"
   ]
  },
  {
   "cell_type": "code",
   "execution_count": 3,
   "id": "850fe6c2-b471-4b56-8bda-cfa69467d3f3",
   "metadata": {},
   "outputs": [
    {
     "data": {
      "text/plain": [
       "2.0"
      ]
     },
     "execution_count": 3,
     "metadata": {},
     "output_type": "execute_result"
    }
   ],
   "source": [
    "import numpy as np\n",
    "\n",
    "arr = np.array([1, 2 ,3, 4, 5])\n",
    "np.percentile(arr,25)"
   ]
  },
  {
   "cell_type": "code",
   "execution_count": 4,
   "id": "04bb2e3a-2c0d-4c16-96dd-f87a23dcb517",
   "metadata": {},
   "outputs": [
    {
     "data": {
      "text/plain": [
       "3.0"
      ]
     },
     "execution_count": 4,
     "metadata": {},
     "output_type": "execute_result"
    }
   ],
   "source": [
    "np.quantile(arr,0.5)"
   ]
  },
  {
   "cell_type": "markdown",
   "id": "7e3a7deb-b899-482d-9a34-d360adaf5b4d",
   "metadata": {},
   "source": [
    "## 📝 Linear Algebra"
   ]
  },
  {
   "cell_type": "code",
   "execution_count": 94,
   "id": "d77d83d4-2bea-4d3e-93af-84bbc0c68fd2",
   "metadata": {},
   "outputs": [
    {
     "data": {
      "text/plain": [
       "11"
      ]
     },
     "execution_count": 94,
     "metadata": {},
     "output_type": "execute_result"
    }
   ],
   "source": [
    "np.dot(ar,ar1)"
   ]
  },
  {
   "cell_type": "code",
   "execution_count": 95,
   "id": "e1f8d4b9-e611-4328-b22a-fcb45dd48d91",
   "metadata": {},
   "outputs": [
    {
     "data": {
      "text/plain": [
       "11"
      ]
     },
     "execution_count": 95,
     "metadata": {},
     "output_type": "execute_result"
    }
   ],
   "source": [
    "ar @ ar1"
   ]
  },
  {
   "cell_type": "code",
   "execution_count": 102,
   "id": "84e24934-7965-483c-8725-3119cae4020f",
   "metadata": {},
   "outputs": [
    {
     "data": {
      "text/plain": [
       "-2.0000000000000004"
      ]
     },
     "execution_count": 102,
     "metadata": {},
     "output_type": "execute_result"
    }
   ],
   "source": [
    "import numpy as np\n",
    "\n",
    "matrix = np.array([[1, 2], [3, 4]])\n",
    "\n",
    "arr = np.linalg.det(matrix)\n",
    "arr"
   ]
  },
  {
   "cell_type": "code",
   "execution_count": 103,
   "id": "672376e3-0317-4013-a4e2-826cbb61322e",
   "metadata": {},
   "outputs": [
    {
     "data": {
      "text/plain": [
       "array([[-2. ,  1. ],\n",
       "       [ 1.5, -0.5]])"
      ]
     },
     "execution_count": 103,
     "metadata": {},
     "output_type": "execute_result"
    }
   ],
   "source": [
    "np.linalg.inv(matrix)"
   ]
  },
  {
   "cell_type": "code",
   "execution_count": 104,
   "id": "4e0a732a-b8d8-4a0e-8dc3-3fb601fd3f5f",
   "metadata": {},
   "outputs": [
    {
     "data": {
      "text/plain": [
       "EigResult(eigenvalues=array([-0.37228132,  5.37228132]), eigenvectors=array([[-0.82456484, -0.41597356],\n",
       "       [ 0.56576746, -0.90937671]]))"
      ]
     },
     "execution_count": 104,
     "metadata": {},
     "output_type": "execute_result"
    }
   ],
   "source": [
    "np.linalg.eig(matrix)"
   ]
  },
  {
   "cell_type": "markdown",
   "id": "83eb9f66-9aad-4627-8c5d-21970e9161db",
   "metadata": {},
   "source": [
    "## 📝 Dealing with Missing Values"
   ]
  },
  {
   "cell_type": "code",
   "execution_count": 107,
   "id": "9be99871-9369-459c-8ede-82af10f7a30e",
   "metadata": {},
   "outputs": [
    {
     "data": {
      "text/plain": [
       "array([ 1.,  2.,  3., nan])"
      ]
     },
     "execution_count": 107,
     "metadata": {},
     "output_type": "execute_result"
    }
   ],
   "source": [
    "arr = np.array([1,2,3,np.nan])\n",
    "arr"
   ]
  },
  {
   "cell_type": "code",
   "execution_count": 111,
   "id": "bdf15f6b-894a-44ee-86a1-37ffdcaeab40",
   "metadata": {},
   "outputs": [
    {
     "data": {
      "text/plain": [
       "array([1., 2., 3.])"
      ]
     },
     "execution_count": 111,
     "metadata": {},
     "output_type": "execute_result"
    }
   ],
   "source": [
    "arr[~(np.isnan(arr))]"
   ]
  },
  {
   "cell_type": "markdown",
   "id": "97903030-5c60-44bc-9d04-ef451440922e",
   "metadata": {},
   "source": [
    "## 📝 Flip"
   ]
  },
  {
   "cell_type": "code",
   "execution_count": 121,
   "id": "98698092-5721-4130-8e6b-d9418e21fd85",
   "metadata": {},
   "outputs": [
    {
     "data": {
      "text/plain": [
       "array([[2, 1],\n",
       "       [4, 3]])"
      ]
     },
     "execution_count": 121,
     "metadata": {},
     "output_type": "execute_result"
    }
   ],
   "source": [
    "import numpy as np\n",
    "\n",
    "matrix = np.array([[1, 2], [3, 4]])\n",
    "\n",
    "np.flip(matrix,axis = 1)"
   ]
  },
  {
   "cell_type": "code",
   "execution_count": 122,
   "id": "2daf7a24-539f-4596-bca1-3c1d79c79cf0",
   "metadata": {},
   "outputs": [
    {
     "data": {
      "text/plain": [
       "array([[3, 4],\n",
       "       [1, 2]])"
      ]
     },
     "execution_count": 122,
     "metadata": {},
     "output_type": "execute_result"
    }
   ],
   "source": [
    "np.flip(matrix,axis = 0)"
   ]
  },
  {
   "cell_type": "markdown",
   "id": "14dc04e1-62df-481d-8e40-9ca42e7abd98",
   "metadata": {},
   "source": [
    "## 📝 Set Theory"
   ]
  },
  {
   "cell_type": "code",
   "execution_count": 128,
   "id": "94301ce4-8da7-48de-aa68-62fd61f84d4f",
   "metadata": {},
   "outputs": [
    {
     "data": {
      "text/plain": [
       "array([1, 2, 3, 4, 5, 6])"
      ]
     },
     "execution_count": 128,
     "metadata": {},
     "output_type": "execute_result"
    }
   ],
   "source": [
    "arr2 = np.array([[1, 2 ,3, 4, 5 ,6]])\n",
    "np.union1d(arr,arr2)"
   ]
  },
  {
   "cell_type": "code",
   "execution_count": 129,
   "id": "bf231d3a-5707-4e43-81f9-2e91fc3098eb",
   "metadata": {},
   "outputs": [
    {
     "data": {
      "text/plain": [
       "array([1, 2, 3, 4, 5])"
      ]
     },
     "execution_count": 129,
     "metadata": {},
     "output_type": "execute_result"
    }
   ],
   "source": [
    "arr2 = np.array([[1, 2 ,3, 4, 5 ,6]])\n",
    "np.intersect1d(arr,arr2)"
   ]
  },
  {
   "cell_type": "code",
   "execution_count": 132,
   "id": "cc5cf2cb-f9ce-48a2-aca8-8f4304a2b5d0",
   "metadata": {},
   "outputs": [
    {
     "data": {
      "text/plain": [
       "False"
      ]
     },
     "execution_count": 132,
     "metadata": {},
     "output_type": "execute_result"
    }
   ],
   "source": [
    "np.array_equal(arr,arr2)"
   ]
  },
  {
   "cell_type": "code",
   "execution_count": 133,
   "id": "39e35136-9daa-4d3a-b2f7-253fbcddd1ba",
   "metadata": {},
   "outputs": [
    {
     "data": {
      "text/plain": [
       "array([ True,  True,  True,  True,  True])"
      ]
     },
     "execution_count": 133,
     "metadata": {},
     "output_type": "execute_result"
    }
   ],
   "source": [
    "np.in1d(arr,arr2)"
   ]
  },
  {
   "cell_type": "markdown",
   "id": "f0ae6f26-8d21-4636-9ab7-c221e1afda85",
   "metadata": {},
   "source": [
    "### Subset"
   ]
  },
  {
   "cell_type": "code",
   "execution_count": 134,
   "id": "2a056534-1e6e-4360-ad92-1d83104f7fd6",
   "metadata": {},
   "outputs": [
    {
     "data": {
      "text/plain": [
       "True"
      ]
     },
     "execution_count": 134,
     "metadata": {},
     "output_type": "execute_result"
    }
   ],
   "source": [
    "np.all(arr)"
   ]
  },
  {
   "cell_type": "markdown",
   "id": "f61149c6-20f9-4b5c-8626-6c89ca8c6227",
   "metadata": {},
   "source": [
    "### Superset"
   ]
  },
  {
   "cell_type": "code",
   "execution_count": 135,
   "id": "a4c28018-7149-413c-88e8-f0005d550f16",
   "metadata": {},
   "outputs": [
    {
     "data": {
      "text/plain": [
       "True"
      ]
     },
     "execution_count": 135,
     "metadata": {},
     "output_type": "execute_result"
    }
   ],
   "source": [
    "np.all(np.in1d(arr,arr2))"
   ]
  }
 ],
 "metadata": {
  "kernelspec": {
   "display_name": "Python 3 (ipykernel)",
   "language": "python",
   "name": "python3"
  },
  "language_info": {
   "codemirror_mode": {
    "name": "ipython",
    "version": 3
   },
   "file_extension": ".py",
   "mimetype": "text/x-python",
   "name": "python",
   "nbconvert_exporter": "python",
   "pygments_lexer": "ipython3",
   "version": "3.11.7"
  }
 },
 "nbformat": 4,
 "nbformat_minor": 5
}
